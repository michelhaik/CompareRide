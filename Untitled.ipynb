{
 "cells": [
  {
   "cell_type": "code",
   "execution_count": 3,
   "metadata": {
    "collapsed": false
   },
   "outputs": [
    {
     "name": "stdout",
     "output_type": "stream",
     "text": [
      "10.175\n"
     ]
    }
   ],
   "source": [
    "# -*- coding: utf-8 -*-\n",
    "\"\"\"\n",
    "Created on Mon Dec  5 13:03:41 2016\n",
    "\n",
    "@author: Michel\n",
    "\"\"\"\n",
    "from datetime import datetime\n",
    "horario_atual = datetime.now()\n",
    "\n",
    "dia_completo = datetime.now()\n",
    "hora_oficial=dia_completo.hour\n",
    "dia_semana=dia_completo.weekday() # Pelo Python, Segunda é 0, Terça é 1, quarta é 3..... até domingo=6\n",
    "distancia=11\n",
    "tempo=21\n",
    "\n",
    "dia_teste=5\n",
    "hora_teste=13\n",
    "if dia_teste>4: # se for fim de semana\n",
    "    if distancia<10:\n",
    "        preco_cabify=0.5+2.9*distancia\n",
    "    elif distancia<25:\n",
    "        preco_cabify=0.5*1.85*distancia\n",
    "else:\n",
    "    a=\"semana\"\n",
    "print(preco_cabify)\n"
   ]
  },
  {
   "cell_type": "code",
   "execution_count": null,
   "metadata": {
    "collapsed": true
   },
   "outputs": [],
   "source": []
  }
 ],
 "metadata": {
  "anaconda-cloud": {},
  "kernelspec": {
   "display_name": "Python [default]",
   "language": "python",
   "name": "python3"
  },
  "language_info": {
   "codemirror_mode": {
    "name": "ipython",
    "version": 3
   },
   "file_extension": ".py",
   "mimetype": "text/x-python",
   "name": "python",
   "nbconvert_exporter": "python",
   "pygments_lexer": "ipython3",
   "version": "3.5.2"
  }
 },
 "nbformat": 4,
 "nbformat_minor": 1
}
