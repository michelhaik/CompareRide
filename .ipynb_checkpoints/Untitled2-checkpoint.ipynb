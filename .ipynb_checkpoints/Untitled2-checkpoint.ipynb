{
 "cells": [
  {
   "cell_type": "code",
   "execution_count": null,
   "metadata": {
    "collapsed": false
   },
   "outputs": [],
   "source": [
    "from datetime import datetime\n",
    "horario_atual = datetime.now()\n",
    "distancia=float(input(\"distancia\"))\n",
    "tempo=10\n",
    "dia_completo = datetime.now()\n",
    "hora_oficial=dia_completo.hour\n",
    "dia_semana=dia_completo.weekday() # Pelo Python, Segunda é 0, Terça é 1, quarta é 3..... até domingo=6\n",
    "\n",
    "print(dia_semana)      \n",
    "print(hora_oficial)   \n",
    "if dia_semana>=0 and dia_semana<5: #true\n",
    "    if hora_oficial>=7 and hora_oficial<10  or hora_oficial>=17 and hora_oficial<21:\n",
    "        \n",
    "        if distancia<=10:\n",
    "            preco=distancia*2.9 +3\n",
    "        elif distancia>10 and distancia<25:\n",
    "            preco=(distancia-10)*1.85 + 32\n",
    "        elif distancia>25:\n",
    "            preco=(distancia-25)*3 +59.75\n",
    "    else:\n",
    "        if distancia<=10:\n",
    "            preco=distancia*2.9 +.5\n",
    "        elif distancia>10 and distancia<25:\n",
    "            preco=(distancia-10)*1.85 +29.5\n",
    "        elif distancia>25:\n",
    "            preco=(distancia-25)*3 +57.25\n",
    "    \n",
    "        \n",
    "else:\n",
    "    if distancia<=10:\n",
    "            preco=distancia*2.9 +.5\n",
    "    elif distancia>10 and distancia<25:\n",
    "            preco=(distancia-10)*1.85 +29.5\n",
    "    elif distancia>25:\n",
    "            preco=(distancia-25)*3 +57.25\n",
    "    \n",
    "#print(preco)\n",
    "if preco<7:\n",
    "    preco=7\n",
    "print(preco)\n"
   ]
  },
  {
   "cell_type": "code",
   "execution_count": null,
   "metadata": {
    "collapsed": true
   },
   "outputs": [],
   "source": []
  },
  {
   "cell_type": "code",
   "execution_count": null,
   "metadata": {
    "collapsed": true
   },
   "outputs": [],
   "source": []
  }
 ],
 "metadata": {
  "anaconda-cloud": {},
  "kernelspec": {
   "display_name": "Python [conda root]",
   "language": "python",
   "name": "conda-root-py"
  },
  "language_info": {
   "codemirror_mode": {
    "name": "ipython",
    "version": 3
   },
   "file_extension": ".py",
   "mimetype": "text/x-python",
   "name": "python",
   "nbconvert_exporter": "python",
   "pygments_lexer": "ipython3",
   "version": "3.5.2"
  }
 },
 "nbformat": 4,
 "nbformat_minor": 1
}
